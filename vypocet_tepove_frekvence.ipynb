{
 "cells": [
  {
   "cell_type": "markdown",
   "metadata": {},
   "source": [
    "Výpočet tepové frekvence"
   ]
  },
  {
   "cell_type": "code",
   "execution_count": null,
   "metadata": {},
   "outputs": [],
   "source": [
    "import wfdb\n",
    "import numpy as np\n",
    "import matplotlib.pyplot as plt\n",
    "\n",
    "#algoritmus pro detekci R vrcholů v signálech + prezentace tepové frekvence při jednotlivých měřeních\n",
    "def Nacti_soubor(cesta_k_souboru): return wfdb.rdrecord(cesta_k_souboru)\n",
    "\n",
    "# nejdřív si načtu jednotlivá měření, abych věděl, jak to vypadá\n",
    "ecg_mereni = Nacti_soubor(r\"C:\\Users\\Patrik\\OneDrive\\Plocha\\PZS\\seminarni_prace_1\\mereni_signalu\\100001\\100001_ECG\")\n",
    "#print(\"Informace o EKG měření:\", ecg_mereni.__dict__) \n",
    "\n",
    "#vezmu si ze souboru jednotlivé signály\n",
    "ecg_signal = ecg_mereni.p_signal\n",
    "#print(ecg_signal[::50]) #testování\n",
    "\n",
    "plt.figure(figsize=(10, 4))\n",
    "plt.plot(ecg_signal)\n",
    "plt.title(\"EKG Signál\")\n",
    "plt.xlabel(\"Čas (s)\")\n",
    "plt.ylim([0,10])\n",
    "plt.ylabel(\"Amplituda [uV]\")\n",
    "plt.show() #!se dlouho načítá!\n",
    "\n",
    "#určím si parametry pro výpočet\n",
    "vzorkovaci_f = 5000 #vzorkovací frekvence, jak často budu zaznamenávat\n",
    "amplitudy = ecg_signal[:, 0]; \n",
    "dolni_mez = 500\n",
    "x_coords = [i for i in range(len(amplitudy)) if amplitudy[i] > dolni_mez]\n",
    "prumer_x = sum(x_coords) / len(x_coords)\n",
    "print(f\"průměr: {prumer_x}\")\n",
    "min_peaks_height = 10000 #zvolím si minimální výšku vrcholů, která je ideální dané ekg\n",
    "min_distance = int(vzorkovaci_f) #minimální vzdálenost mezi vrcholi bude vzorkovací frekvence\n",
    "\n",
    "#nyní si vytvořím algoritmus na detekci r vrcholů\n",
    "r_peaks = [] #seznam, kam si uložím souřadnice vrcholů\n",
    "for i in range(1, len(ecg_signal)-1):\n",
    "    if ecg_signal[i]>min_peaks_height:\n",
    "        #zkontroluji že hodnota je větší něž okolní hodnoty\n",
    "        if ecg_signal[i]>ecg_signal[i-1] and ecg_signal[i]>ecg_signal[i+1]:\n",
    "            if len(r_peaks) == 0 or (i-r_peaks[-1]>=min_distance): \n",
    "                r_peaks.append(i)\n",
    "print(r_peaks[:20]) #testování\n",
    "\n",
    "#r_peaks_hodnoty = [ecg_signal[i] if i in r_peaks else None for i in range(len(ecg_signal))]\n",
    "\n",
    "\n",
    "print(len(ecg_signal))\n",
    "time_period = 8\n",
    "\n",
    "tepova_f = ((len(r_peaks)*60) / time_period) #výpočet tepové frekvence v BPM\n",
    "#zaokrouhlena_tepova_f = round(tepova_f,2) #zaokrouhlím na celé číslo\n",
    "print(time_period,tepova_f)\n",
    "plt.figure(figsize=(20,4))\n",
    "plt.plot(r_peaks,[ecg_signal[i] for i in r_peaks], linestyle='None', marker='o', color='green', label=\"R-vrcholy\")\n",
    "plt.xlabel(\"Čas (s)\")\n",
    "plt.ylabel(\"Amplituda [uV]\")\n",
    "plt.title(f\"Tepová frekvence {tepova_f:.2f} bpm\")\n",
    "plt.ylim([0,25000]) #nastavím si x od 0 do 25000\n",
    "plt.show()"
   ]
  }
 ],
 "metadata": {
  "kernelspec": {
   "display_name": "Python 3",
   "language": "python",
   "name": "python3"
  },
  "language_info": {
   "codemirror_mode": {
    "name": "ipython",
    "version": 3
   },
   "file_extension": ".py",
   "mimetype": "text/x-python",
   "name": "python",
   "nbconvert_exporter": "python",
   "pygments_lexer": "ipython3",
   "version": "3.13.0"
  }
 },
 "nbformat": 4,
 "nbformat_minor": 2
}
